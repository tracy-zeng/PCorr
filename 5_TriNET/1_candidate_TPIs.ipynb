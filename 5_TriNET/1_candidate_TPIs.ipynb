{
 "cells": [
  {
   "cell_type": "code",
   "execution_count": null,
   "id": "1874cbec-660f-44ba-b64e-ef853485e56f",
   "metadata": {},
   "outputs": [],
   "source": [
    "import pickle\n",
    "import numpy as np\n",
    "import warnings\n",
    "warnings.filterwarnings(\"ignore\")"
   ]
  },
  {
   "cell_type": "code",
   "execution_count": null,
   "id": "d0a8c654-78d6-4fae-a808-1a837f764743",
   "metadata": {},
   "outputs": [],
   "source": [
    "# read datasets\n",
    "\n",
    "# PCorr\n",
    "r_pcorr_crispr = pickle.load(open('TriNET_datasets/r_pcorr_crispr.pkl', 'rb'))\n",
    "r_pcorr_rnai = pickle.load(open('TriNET_datasets/r_pcorr_rnai.pkl', 'rb'))\n",
    "\n",
    "r_pcorr_crispr['score'] = np.mean(r_pcorr_crispr,axis=1)\n",
    "r_pcorr_rnai['score'] = np.mean(r_pcorr_rnai,axis=1)\n",
    "\n",
    "r_pcorr_key = {}\n",
    "r_pcorr_key['CRISPR'] = r_pcorr_crispr\n",
    "r_pcorr_key['RNAi'] = r_pcorr_rnai\n",
    "\n",
    "# TPCA\n",
    "r_tpca_key = pickle.load(open('TriNET_datasets/r_tpca_key.pkl', 'rb'))\n",
    "r_tpca_crispr = r_tpca_key['CRISPR']\n",
    "r_tpca_rnai = r_tpca_key['RNAi']\n",
    "\n",
    "r_tpca_crispr['score'] = np.mean(r_tpca_crispr,axis=1)\n",
    "r_tpca_rnai['score'] = np.mean(r_tpca_rnai,axis=1)\n",
    "\n",
    "r_tpca_key = {}\n",
    "r_tpca_key['CRISPR'] = r_tpca_crispr\n",
    "r_tpca_key['RNAi'] = r_tpca_rnai"
   ]
  },
  {
   "cell_type": "code",
   "execution_count": null,
   "id": "12a2976d-3a25-4958-8a32-10fd9aed79f3",
   "metadata": {},
   "outputs": [],
   "source": [
    "score = 0.6\n",
    "\n",
    "tpis_sig_key = {}\n",
    "for ge_key in ['CRISPR','RNAi']:\n",
    "    r_pcorr = r_pcorr_key[ge_key]\n",
    "    r_tpca = r_tpca_key[ge_key]\n",
    "\n",
    "    r_pcorr_sig = r_pcorr[r_pcorr['score'] > score]\n",
    "    r_tpca_sig = r_tpca[r_tpca['score'] > score]\n",
    "    \n",
    "    tpis_sig_key[ge_key] = set(r_pcorr_sig.index) & set(r_tpca_sig.index)"
   ]
  }
 ],
 "metadata": {
  "kernelspec": {
   "display_name": "Python 3 (ipykernel)",
   "language": "python",
   "name": "python3"
  },
  "language_info": {
   "codemirror_mode": {
    "name": "ipython",
    "version": 3
   },
   "file_extension": ".py",
   "mimetype": "text/x-python",
   "name": "python",
   "nbconvert_exporter": "python",
   "pygments_lexer": "ipython3",
   "version": "3.11.7"
  }
 },
 "nbformat": 4,
 "nbformat_minor": 5
}
